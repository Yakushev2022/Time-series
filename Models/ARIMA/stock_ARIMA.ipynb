{
 "cells": [
  {
   "cell_type": "code",
   "execution_count": 3,
   "id": "pediatric-classics",
   "metadata": {},
   "outputs": [],
   "source": [
    "import numpy as np\n",
    "import pandas as pd\n",
    "from pandas_datareader import data"
   ]
  },
  {
   "cell_type": "code",
   "execution_count": 4,
   "id": "moderate-complement",
   "metadata": {},
   "outputs": [
    {
     "name": "stdout",
     "output_type": "stream",
     "text": [
      "Requirement already satisfied: pandas_datareader in c:\\users\\opel\\anaconda3\\lib\\site-packages (0.10.0)\n",
      "Requirement already satisfied: pandas>=0.23 in c:\\users\\opel\\anaconda3\\lib\\site-packages (from pandas_datareader) (1.2.2)\n",
      "Requirement already satisfied: requests>=2.19.0 in c:\\users\\opel\\anaconda3\\lib\\site-packages (from pandas_datareader) (2.25.1)\n",
      "Requirement already satisfied: lxml in c:\\users\\opel\\anaconda3\\lib\\site-packages (from pandas_datareader) (4.6.2)\n",
      "Requirement already satisfied: numpy>=1.16.5 in c:\\users\\opel\\anaconda3\\lib\\site-packages (from pandas>=0.23->pandas_datareader) (1.21.6)\n",
      "Requirement already satisfied: pytz>=2017.3 in c:\\users\\opel\\anaconda3\\lib\\site-packages (from pandas>=0.23->pandas_datareader) (2021.1)\n",
      "Requirement already satisfied: python-dateutil>=2.7.3 in c:\\users\\opel\\anaconda3\\lib\\site-packages (from pandas>=0.23->pandas_datareader) (2.8.1)\n",
      "Requirement already satisfied: six>=1.5 in c:\\users\\opel\\anaconda3\\lib\\site-packages (from python-dateutil>=2.7.3->pandas>=0.23->pandas_datareader) (1.15.0)\n",
      "Requirement already satisfied: urllib3<1.27,>=1.21.1 in c:\\users\\opel\\anaconda3\\lib\\site-packages (from requests>=2.19.0->pandas_datareader) (1.26.11)\n",
      "Requirement already satisfied: chardet<5,>=3.0.2 in c:\\users\\opel\\anaconda3\\lib\\site-packages (from requests>=2.19.0->pandas_datareader) (4.0.0)\n",
      "Requirement already satisfied: idna<3,>=2.5 in c:\\users\\opel\\anaconda3\\lib\\site-packages (from requests>=2.19.0->pandas_datareader) (2.10)\n",
      "Requirement already satisfied: certifi>=2017.4.17 in c:\\users\\opel\\anaconda3\\lib\\site-packages (from requests>=2.19.0->pandas_datareader) (2022.9.14)\n"
     ]
    }
   ],
   "source": [
    "!pip install pandas_datareader"
   ]
  },
  {
   "cell_type": "code",
   "execution_count": 5,
   "id": "quality-shipping",
   "metadata": {},
   "outputs": [
    {
     "data": {
      "text/plain": [
       "PeriodIndex(['2022-05-16', '2022-05-17', '2022-05-18', '2022-05-19',\n",
       "             '2022-05-20', '2022-05-23', '2022-05-24', '2022-05-25',\n",
       "             '2022-05-26', '2022-05-27',\n",
       "             ...\n",
       "             '2022-10-03', '2022-10-04', '2022-10-05', '2022-10-06',\n",
       "             '2022-10-07', '2022-10-10', '2022-10-11', '2022-10-12',\n",
       "             '2022-10-13', '2022-10-14'],\n",
       "            dtype='period[D]', name='Date', length=106, freq='D')"
      ]
     },
     "execution_count": 5,
     "metadata": {},
     "output_type": "execute_result"
    }
   ],
   "source": [
    "import pandas as pd\n",
    "company=\"MSFT\"\n",
    "start='2022-05-15'\n",
    "end='2022-10-15'\n",
    "\n",
    "stocks=data.DataReader(name=company, data_source='yahoo', start=start, end=end)\n",
    "pd.PeriodIndex(stocks.index, freq='D')"
   ]
  },
  {
   "cell_type": "code",
   "execution_count": 6,
   "id": "floppy-constraint",
   "metadata": {},
   "outputs": [
    {
     "data": {
      "text/html": [
       "<div>\n",
       "<style scoped>\n",
       "    .dataframe tbody tr th:only-of-type {\n",
       "        vertical-align: middle;\n",
       "    }\n",
       "\n",
       "    .dataframe tbody tr th {\n",
       "        vertical-align: top;\n",
       "    }\n",
       "\n",
       "    .dataframe thead th {\n",
       "        text-align: right;\n",
       "    }\n",
       "</style>\n",
       "<table border=\"1\" class=\"dataframe\">\n",
       "  <thead>\n",
       "    <tr style=\"text-align: right;\">\n",
       "      <th></th>\n",
       "      <th>Date</th>\n",
       "      <th>High</th>\n",
       "      <th>Low</th>\n",
       "      <th>Open</th>\n",
       "      <th>Close</th>\n",
       "      <th>Volume</th>\n",
       "      <th>Adj Close</th>\n",
       "    </tr>\n",
       "  </thead>\n",
       "  <tbody>\n",
       "    <tr>\n",
       "      <th>0</th>\n",
       "      <td>2022-05-16</td>\n",
       "      <td>265.820007</td>\n",
       "      <td>255.779999</td>\n",
       "      <td>259.959991</td>\n",
       "      <td>261.500000</td>\n",
       "      <td>32550900.0</td>\n",
       "      <td>260.339752</td>\n",
       "    </tr>\n",
       "    <tr>\n",
       "      <th>1</th>\n",
       "      <td>2022-05-17</td>\n",
       "      <td>268.329987</td>\n",
       "      <td>262.459991</td>\n",
       "      <td>266.109985</td>\n",
       "      <td>266.820007</td>\n",
       "      <td>28828800.0</td>\n",
       "      <td>265.636169</td>\n",
       "    </tr>\n",
       "    <tr>\n",
       "      <th>2</th>\n",
       "      <td>2022-05-18</td>\n",
       "      <td>263.600006</td>\n",
       "      <td>252.770004</td>\n",
       "      <td>263.000000</td>\n",
       "      <td>254.080002</td>\n",
       "      <td>31356000.0</td>\n",
       "      <td>253.541840</td>\n",
       "    </tr>\n",
       "    <tr>\n",
       "      <th>3</th>\n",
       "      <td>2022-05-19</td>\n",
       "      <td>257.670013</td>\n",
       "      <td>251.880005</td>\n",
       "      <td>253.899994</td>\n",
       "      <td>253.139999</td>\n",
       "      <td>32692300.0</td>\n",
       "      <td>252.603821</td>\n",
       "    </tr>\n",
       "    <tr>\n",
       "      <th>4</th>\n",
       "      <td>2022-05-20</td>\n",
       "      <td>258.540009</td>\n",
       "      <td>246.440002</td>\n",
       "      <td>257.239990</td>\n",
       "      <td>252.559998</td>\n",
       "      <td>39199300.0</td>\n",
       "      <td>252.025055</td>\n",
       "    </tr>\n",
       "  </tbody>\n",
       "</table>\n",
       "</div>"
      ],
      "text/plain": [
       "        Date        High         Low        Open       Close      Volume  \\\n",
       "0 2022-05-16  265.820007  255.779999  259.959991  261.500000  32550900.0   \n",
       "1 2022-05-17  268.329987  262.459991  266.109985  266.820007  28828800.0   \n",
       "2 2022-05-18  263.600006  252.770004  263.000000  254.080002  31356000.0   \n",
       "3 2022-05-19  257.670013  251.880005  253.899994  253.139999  32692300.0   \n",
       "4 2022-05-20  258.540009  246.440002  257.239990  252.559998  39199300.0   \n",
       "\n",
       "    Adj Close  \n",
       "0  260.339752  \n",
       "1  265.636169  \n",
       "2  253.541840  \n",
       "3  252.603821  \n",
       "4  252.025055  "
      ]
     },
     "execution_count": 6,
     "metadata": {},
     "output_type": "execute_result"
    }
   ],
   "source": [
    "stocks.truncate(before='22-05-15', after='2022-10-15' )\n",
    "stocks.reset_index(inplace = True)\n",
    "stocks.head(5)"
   ]
  },
  {
   "cell_type": "code",
   "execution_count": 7,
   "id": "annoying-ordinary",
   "metadata": {},
   "outputs": [
    {
     "data": {
      "text/plain": [
       "106"
      ]
     },
     "execution_count": 7,
     "metadata": {},
     "output_type": "execute_result"
    }
   ],
   "source": [
    "len(stocks.Date)"
   ]
  },
  {
   "cell_type": "code",
   "execution_count": null,
   "id": "prescribed-campbell",
   "metadata": {},
   "outputs": [],
   "source": []
  }
 ],
 "metadata": {
  "kernelspec": {
   "display_name": "Python 3",
   "language": "python",
   "name": "python3"
  },
  "language_info": {
   "codemirror_mode": {
    "name": "ipython",
    "version": 3
   },
   "file_extension": ".py",
   "mimetype": "text/x-python",
   "name": "python",
   "nbconvert_exporter": "python",
   "pygments_lexer": "ipython3",
   "version": "3.8.8"
  }
 },
 "nbformat": 4,
 "nbformat_minor": 5
}
