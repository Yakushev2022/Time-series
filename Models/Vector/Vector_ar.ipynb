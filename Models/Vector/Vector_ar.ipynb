{
 "cells": [
  {
   "cell_type": "code",
   "execution_count": 1,
   "id": "major-moldova",
   "metadata": {},
   "outputs": [],
   "source": [
    "import numpy as np\n",
    "import pandas\n",
    "import statsmodels.api as sm\n",
    "from statsmodels.tsa.api import VAR"
   ]
  },
  {
   "cell_type": "code",
   "execution_count": 18,
   "id": "virgin-description",
   "metadata": {},
   "outputs": [],
   "source": [
    "mdata = sm.datasets.macrodata.load_pandas().data\n",
    "\n",
    "# prepare the dates index\n",
    "dates = mdata[['year', 'quarter']].astype(int).astype(str)\n",
    "quarterly = dates[\"year\"] + \"Q\" + dates[\"quarter\"]"
   ]
  },
  {
   "cell_type": "code",
   "execution_count": 19,
   "id": "magnetic-aquatic",
   "metadata": {},
   "outputs": [
    {
     "data": {
      "text/html": [
       "<div>\n",
       "<style scoped>\n",
       "    .dataframe tbody tr th:only-of-type {\n",
       "        vertical-align: middle;\n",
       "    }\n",
       "\n",
       "    .dataframe tbody tr th {\n",
       "        vertical-align: top;\n",
       "    }\n",
       "\n",
       "    .dataframe thead th {\n",
       "        text-align: right;\n",
       "    }\n",
       "</style>\n",
       "<table border=\"1\" class=\"dataframe\">\n",
       "  <thead>\n",
       "    <tr style=\"text-align: right;\">\n",
       "      <th></th>\n",
       "      <th>realgdp</th>\n",
       "      <th>realcons</th>\n",
       "      <th>realinv</th>\n",
       "    </tr>\n",
       "  </thead>\n",
       "  <tbody>\n",
       "    <tr>\n",
       "      <th>1959-06-30</th>\n",
       "      <td>0.024942</td>\n",
       "      <td>0.015286</td>\n",
       "      <td>0.080213</td>\n",
       "    </tr>\n",
       "    <tr>\n",
       "      <th>1959-09-30</th>\n",
       "      <td>-0.001193</td>\n",
       "      <td>0.010386</td>\n",
       "      <td>-0.072131</td>\n",
       "    </tr>\n",
       "    <tr>\n",
       "      <th>1959-12-31</th>\n",
       "      <td>0.003495</td>\n",
       "      <td>0.001084</td>\n",
       "      <td>0.034425</td>\n",
       "    </tr>\n",
       "    <tr>\n",
       "      <th>1960-03-31</th>\n",
       "      <td>0.022190</td>\n",
       "      <td>0.009534</td>\n",
       "      <td>0.102664</td>\n",
       "    </tr>\n",
       "    <tr>\n",
       "      <th>1960-06-30</th>\n",
       "      <td>-0.004685</td>\n",
       "      <td>0.012572</td>\n",
       "      <td>-0.106694</td>\n",
       "    </tr>\n",
       "    <tr>\n",
       "      <th>...</th>\n",
       "      <td>...</td>\n",
       "      <td>...</td>\n",
       "      <td>...</td>\n",
       "    </tr>\n",
       "    <tr>\n",
       "      <th>2008-09-30</th>\n",
       "      <td>-0.006781</td>\n",
       "      <td>-0.008948</td>\n",
       "      <td>-0.017836</td>\n",
       "    </tr>\n",
       "    <tr>\n",
       "      <th>2008-12-31</th>\n",
       "      <td>-0.013805</td>\n",
       "      <td>-0.007843</td>\n",
       "      <td>-0.069165</td>\n",
       "    </tr>\n",
       "    <tr>\n",
       "      <th>2009-03-31</th>\n",
       "      <td>-0.016612</td>\n",
       "      <td>0.001511</td>\n",
       "      <td>-0.175598</td>\n",
       "    </tr>\n",
       "    <tr>\n",
       "      <th>2009-06-30</th>\n",
       "      <td>-0.001851</td>\n",
       "      <td>-0.002196</td>\n",
       "      <td>-0.067561</td>\n",
       "    </tr>\n",
       "    <tr>\n",
       "      <th>2009-09-30</th>\n",
       "      <td>0.006862</td>\n",
       "      <td>0.007265</td>\n",
       "      <td>0.020197</td>\n",
       "    </tr>\n",
       "  </tbody>\n",
       "</table>\n",
       "<p>202 rows × 3 columns</p>\n",
       "</div>"
      ],
      "text/plain": [
       "             realgdp  realcons   realinv\n",
       "1959-06-30  0.024942  0.015286  0.080213\n",
       "1959-09-30 -0.001193  0.010386 -0.072131\n",
       "1959-12-31  0.003495  0.001084  0.034425\n",
       "1960-03-31  0.022190  0.009534  0.102664\n",
       "1960-06-30 -0.004685  0.012572 -0.106694\n",
       "...              ...       ...       ...\n",
       "2008-09-30 -0.006781 -0.008948 -0.017836\n",
       "2008-12-31 -0.013805 -0.007843 -0.069165\n",
       "2009-03-31 -0.016612  0.001511 -0.175598\n",
       "2009-06-30 -0.001851 -0.002196 -0.067561\n",
       "2009-09-30  0.006862  0.007265  0.020197\n",
       "\n",
       "[202 rows x 3 columns]"
      ]
     },
     "execution_count": 19,
     "metadata": {},
     "output_type": "execute_result"
    }
   ],
   "source": [
    "from statsmodels.tsa.base.datetools import dates_from_str\n",
    "quarterly = dates_from_str(quarterly)\n",
    "\n",
    "mdata = mdata[['realgdp','realcons','realinv']]\n",
    "mdata.index = pandas.DatetimeIndex(quarterly)\n",
    "data = np.log(mdata).diff().dropna()\n",
    "data "
   ]
  },
  {
   "cell_type": "code",
   "execution_count": 20,
   "id": "known-retrieval",
   "metadata": {},
   "outputs": [
    {
     "name": "stdout",
     "output_type": "stream",
     "text": [
      "<class 'pandas.core.frame.DataFrame'>\n",
      "DatetimeIndex: 202 entries, 1959-06-30 to 2009-09-30\n",
      "Data columns (total 3 columns):\n",
      " #   Column    Non-Null Count  Dtype  \n",
      "---  ------    --------------  -----  \n",
      " 0   realgdp   202 non-null    float64\n",
      " 1   realcons  202 non-null    float64\n",
      " 2   realinv   202 non-null    float64\n",
      "dtypes: float64(3)\n",
      "memory usage: 6.3 KB\n"
     ]
    }
   ],
   "source": [
    "data.info()"
   ]
  },
  {
   "cell_type": "code",
   "execution_count": 21,
   "id": "assumed-tampa",
   "metadata": {},
   "outputs": [
    {
     "name": "stderr",
     "output_type": "stream",
     "text": [
      "C:\\Users\\opel\\anaconda3\\lib\\site-packages\\statsmodels\\tsa\\base\\tsa_model.py:524: ValueWarning: No frequency information was provided, so inferred frequency Q-DEC will be used.\n",
      "  warnings.warn('No frequency information was'\n"
     ]
    }
   ],
   "source": [
    "# make a VAR model\n",
    "model = VAR(data)"
   ]
  },
  {
   "cell_type": "markdown",
   "id": "needed-lightning",
   "metadata": {},
   "source": [
    "Класс VARпредполагает, что пройденные временные ряды являются стационарными. Нестационарные или трендовые данные часто можно преобразовать в стационарные с помощью первого разности или каким-либо другим методом. Для прямого анализа нестационарных временных рядов стандартная стабильная модель VAR(p) не подходит.\n",
    "\n",
    "Чтобы фактически выполнить оценку, вызовите метод подгонки с желаемым порядком запаздывания. Или вы можете сделать так, чтобы модель выбирала порядок задержки на основе стандартного информационного критерия."
   ]
  },
  {
   "cell_type": "code",
   "execution_count": 25,
   "id": "geological-banking",
   "metadata": {},
   "outputs": [
    {
     "data": {
      "text/plain": [
       "  Summary of Regression Results   \n",
       "==================================\n",
       "Model:                         VAR\n",
       "Method:                        OLS\n",
       "Date:           Fri, 04, Nov, 2022\n",
       "Time:                     22:24:51\n",
       "--------------------------------------------------------------------\n",
       "No. of Equations:         3.00000    BIC:                   -27.5830\n",
       "Nobs:                     200.000    HQIC:                  -27.7892\n",
       "Log likelihood:           1962.57    FPE:                7.42129e-13\n",
       "AIC:                     -27.9293    Det(Omega_mle):     6.69358e-13\n",
       "--------------------------------------------------------------------\n",
       "Results for equation realgdp\n",
       "==============================================================================\n",
       "                 coefficient       std. error           t-stat            prob\n",
       "------------------------------------------------------------------------------\n",
       "const               0.001527         0.001119            1.365           0.172\n",
       "L1.realgdp         -0.279435         0.169663           -1.647           0.100\n",
       "L1.realcons         0.675016         0.131285            5.142           0.000\n",
       "L1.realinv          0.033219         0.026194            1.268           0.205\n",
       "L2.realgdp          0.008221         0.173522            0.047           0.962\n",
       "L2.realcons         0.290458         0.145904            1.991           0.047\n",
       "L2.realinv         -0.007321         0.025786           -0.284           0.776\n",
       "==============================================================================\n",
       "\n",
       "Results for equation realcons\n",
       "==============================================================================\n",
       "                 coefficient       std. error           t-stat            prob\n",
       "------------------------------------------------------------------------------\n",
       "const               0.005460         0.000969            5.634           0.000\n",
       "L1.realgdp         -0.100468         0.146924           -0.684           0.494\n",
       "L1.realcons         0.268640         0.113690            2.363           0.018\n",
       "L1.realinv          0.025739         0.022683            1.135           0.257\n",
       "L2.realgdp         -0.123174         0.150267           -0.820           0.412\n",
       "L2.realcons         0.232499         0.126350            1.840           0.066\n",
       "L2.realinv          0.023504         0.022330            1.053           0.293\n",
       "==============================================================================\n",
       "\n",
       "Results for equation realinv\n",
       "==============================================================================\n",
       "                 coefficient       std. error           t-stat            prob\n",
       "------------------------------------------------------------------------------\n",
       "const              -0.023903         0.005863           -4.077           0.000\n",
       "L1.realgdp         -1.970974         0.888892           -2.217           0.027\n",
       "L1.realcons         4.414162         0.687825            6.418           0.000\n",
       "L1.realinv          0.225479         0.137234            1.643           0.100\n",
       "L2.realgdp          0.380786         0.909114            0.419           0.675\n",
       "L2.realcons         0.800281         0.764416            1.047           0.295\n",
       "L2.realinv         -0.124079         0.135098           -0.918           0.358\n",
       "==============================================================================\n",
       "\n",
       "Correlation matrix of residuals\n",
       "             realgdp  realcons   realinv\n",
       "realgdp     1.000000  0.603316  0.750722\n",
       "realcons    0.603316  1.000000  0.131951\n",
       "realinv     0.750722  0.131951  1.000000\n",
       "\n"
      ]
     },
     "execution_count": 25,
     "metadata": {},
     "output_type": "execute_result"
    }
   ],
   "source": [
    "results = model.fit(2)\n",
    "results.summary()"
   ]
  },
  {
   "cell_type": "code",
   "execution_count": null,
   "id": "attractive-cyprus",
   "metadata": {},
   "outputs": [],
   "source": []
  }
 ],
 "metadata": {
  "kernelspec": {
   "display_name": "Python 3",
   "language": "python",
   "name": "python3"
  },
  "language_info": {
   "codemirror_mode": {
    "name": "ipython",
    "version": 3
   },
   "file_extension": ".py",
   "mimetype": "text/x-python",
   "name": "python",
   "nbconvert_exporter": "python",
   "pygments_lexer": "ipython3",
   "version": "3.8.8"
  }
 },
 "nbformat": 4,
 "nbformat_minor": 5
}
